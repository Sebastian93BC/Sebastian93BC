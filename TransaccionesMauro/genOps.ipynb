{
 "cells": [
  {
   "cell_type": "code",
   "execution_count": 64,
   "metadata": {},
   "outputs": [],
   "source": [
    "import pandas as pd\n",
    "import numpy as np\n",
    "import json\n",
    "import os\n"
   ]
  },
  {
   "cell_type": "code",
   "execution_count": 65,
   "metadata": {},
   "outputs": [],
   "source": [
    "df = pd.read_excel('operaciones.xlsx')\n"
   ]
  },
  {
   "cell_type": "code",
   "execution_count": 66,
   "metadata": {},
   "outputs": [],
   "source": [
    "dfAggregate = df['aggregateNo']\n",
    "df['proceso'] =  df['code'].astype(str) + \"_\" + df['position'].astype(str)\n",
    "dfProcess = df['proceso']"
   ]
  },
  {
   "cell_type": "code",
   "execution_count": 67,
   "metadata": {},
   "outputs": [],
   "source": [
    "ruta_directorio = './Agregados'\n",
    "if not os.path.exists(ruta_directorio):\n",
    "    os.makedirs(ruta_directorio)\n",
    "\n",
    "for elemento in range(dfAggregate.size):\n",
    "    outPut = str(dfAggregate.iloc[elemento])\n",
    "    outPut = outPut.replace('\\n', '').replace('\\\\n\\\\', '')\n",
    "    ruta_archivo = os.path.join(ruta_directorio, dfProcess.iloc[elemento])\n",
    "\n",
    "    with open(ruta_archivo, 'w') as archivo:\n",
    "        archivo.write(outPut)\n",
    "\n",
    "\n",
    "\n",
    "\n",
    "\n",
    "\n",
    "\n"
   ]
  }
 ],
 "metadata": {
  "kernelspec": {
   "display_name": "bdvenv",
   "language": "python",
   "name": "python3"
  },
  "language_info": {
   "codemirror_mode": {
    "name": "ipython",
    "version": 3
   },
   "file_extension": ".py",
   "mimetype": "text/x-python",
   "name": "python",
   "nbconvert_exporter": "python",
   "pygments_lexer": "ipython3",
   "version": "3.10.2"
  }
 },
 "nbformat": 4,
 "nbformat_minor": 2
}
